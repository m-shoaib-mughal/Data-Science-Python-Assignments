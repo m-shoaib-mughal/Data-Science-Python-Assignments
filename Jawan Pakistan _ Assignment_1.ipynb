{
 "cells": [
  {
   "cell_type": "markdown",
   "id": "2e0bcb20",
   "metadata": {},
   "source": [
    "# Jawan Pakistan - Data Science Course\n",
    "# Assignment No.1\n",
    "\n",
    "# Name : Mohammad Shoaib\n"
   ]
  },
  {
   "cell_type": "code",
   "execution_count": 1,
   "id": "5c52d10e",
   "metadata": {},
   "outputs": [
    {
     "name": "stdout",
     "output_type": "stream",
     "text": [
      "Twinke, Twinkle little star \n",
      "\tHow I Wonder what you are! \n",
      "\t\tUp above the world so high \n",
      "\t\tLike a diamond in the sky. \n",
      "Twinkle, Twinkle, Little Star, \n",
      "\tHow I Wonder What You Are\n"
     ]
    }
   ],
   "source": [
    "# Print String in Poem Format\n",
    "\n",
    "a = \"Twinke, Twinkle little star\"\n",
    "b = \"\\n\\tHow I Wonder what you are!\"\n",
    "c = \"\\n\\t\\tUp above the world so high\"\n",
    "d = \"\\n\\t\\tLike a diamond in the sky.\"\n",
    "e = \"\\nTwinkle, Twinkle, Little Star,\"\n",
    "f = \"\\n\\tHow I Wonder What You Are\"\n",
    "print (a,b,c,d,e,f);"
   ]
  },
  {
   "cell_type": "code",
   "execution_count": 4,
   "id": "ca75fddb",
   "metadata": {},
   "outputs": [
    {
     "name": "stdout",
     "output_type": "stream",
     "text": [
      "3.9.7 (default, Sep 16 2021, 16:59:28) [MSC v.1916 64 bit (AMD64)]\n"
     ]
    }
   ],
   "source": [
    "# Print Python Version\n",
    "\n",
    "import sys\n",
    "print (sys.version)"
   ]
  },
  {
   "cell_type": "code",
   "execution_count": 5,
   "id": "1422a91e",
   "metadata": {},
   "outputs": [
    {
     "name": "stdout",
     "output_type": "stream",
     "text": [
      "Current date and time : \n",
      "02-01-22 23:11:05\n"
     ]
    }
   ],
   "source": [
    "# Print Current Date & Time\n",
    "\n",
    "import datetime\n",
    "now = datetime.datetime.now()\n",
    "print (\"Current date and time : \")\n",
    "print (now.strftime(\"%d-%m-%y %H:%M:%S\"))"
   ]
  },
  {
   "cell_type": "code",
   "execution_count": 6,
   "id": "9df36769",
   "metadata": {},
   "outputs": [
    {
     "name": "stdout",
     "output_type": "stream",
     "text": [
      "Input the radius of the circle : 20\n",
      "The area of the circle with radius 20.0 is: 1256.6370614359173\n"
     ]
    }
   ],
   "source": [
    "# Compute the AREA by taken of user input\n",
    "\n",
    "from math import pi\n",
    "r = float(input (\"Input the radius of the circle : \"))\n",
    "print (\"The area of the circle with radius \" + str(r) + \" is: \" + str(pi * r**2))"
   ]
  },
  {
   "cell_type": "code",
   "execution_count": 7,
   "id": "fd77a300",
   "metadata": {},
   "outputs": [
    {
     "name": "stdout",
     "output_type": "stream",
     "text": [
      "Write Your First Name = Mohammad\n",
      "Write Your Last Name = Shoaib\n",
      "Shoaib Mohammad\n"
     ]
    }
   ],
   "source": [
    "# Print First & Last Name in reverse format by taking user input.\n",
    "\n",
    "Fname = input (\"Write Your First Name = \");\n",
    "Lname = input (\"Write Your Last Name = \")\n",
    "print (Lname + \" \" + Fname);"
   ]
  },
  {
   "cell_type": "code",
   "execution_count": 3,
   "id": "6913ad76",
   "metadata": {},
   "outputs": [
    {
     "name": "stdout",
     "output_type": "stream",
     "text": [
      "1st Value :2\n",
      "2nd value:2\n",
      "Addition is : 4.0\n"
     ]
    }
   ],
   "source": [
    "# Perform Addition by taking user input.\n",
    "\n",
    "a = float(input (\"1st Value :\"));\n",
    "b = float(input (\"2nd value:\"));\n",
    "print (\"Addition is :\", a+b);"
   ]
  },
  {
   "cell_type": "code",
   "execution_count": null,
   "id": "a1948000",
   "metadata": {},
   "outputs": [],
   "source": []
  }
 ],
 "metadata": {
  "kernelspec": {
   "display_name": "Python 3 (ipykernel)",
   "language": "python",
   "name": "python3"
  },
  "language_info": {
   "codemirror_mode": {
    "name": "ipython",
    "version": 3
   },
   "file_extension": ".py",
   "mimetype": "text/x-python",
   "name": "python",
   "nbconvert_exporter": "python",
   "pygments_lexer": "ipython3",
   "version": "3.9.7"
  }
 },
 "nbformat": 4,
 "nbformat_minor": 5
}
